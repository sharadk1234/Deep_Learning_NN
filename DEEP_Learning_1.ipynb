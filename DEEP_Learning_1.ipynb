{
  "nbformat": 4,
  "nbformat_minor": 0,
  "metadata": {
    "colab": {
      "name": "DEEP_Learning_1",
      "provenance": [],
      "collapsed_sections": []
    },
    "kernelspec": {
      "name": "python3",
      "display_name": "Python 3"
    },
    "language_info": {
      "name": "python"
    }
  },
  "cells": [
    {
      "cell_type": "code",
      "execution_count": 2,
      "metadata": {
        "id": "ld1lDm33WGVY"
      },
      "outputs": [],
      "source": [
        "import pandas as pd\n",
        "import numpy as np"
      ]
    },
    {
      "cell_type": "code",
      "source": [
        "'''\n",
        "1. Logistic Regression \n",
        "2. FeedForwards Neural Networks and GPUs \n",
        "3. Convolutional Neural Networks and Reset \n",
        "4. Generating images with DC GAN's\n",
        "5. Convolutional Network and ResNet \n",
        "6. Training a CNN on the CIFAR10 Dataset \n",
        "7. Regularization \n",
        "8. Improving Model with ResNet and Transfer Learning.\n",
        "9. Last Topic will be Gneerative Adversarials Networks.\n",
        "10.  Matric Multplication and High School Mathematics , Python \n",
        "'''"
      ],
      "metadata": {
        "id": "Kkfmz-goWLz7"
      },
      "execution_count": null,
      "outputs": []
    },
    {
      "cell_type": "code",
      "source": [
        "# Generating Models - Real world Project using Ml"
      ],
      "metadata": {
        "id": "55mf7cZjWL3W"
      },
      "execution_count": null,
      "outputs": []
    },
    {
      "cell_type": "code",
      "source": [
        "!pip install jovian --upgrade -q"
      ],
      "metadata": {
        "colab": {
          "base_uri": "https://localhost:8080/"
        },
        "id": "HhPAmNL9WL59",
        "outputId": "2119533f-332e-4046-e994-1807190ecc63"
      },
      "execution_count": 3,
      "outputs": [
        {
          "output_type": "stream",
          "name": "stdout",
          "text": [
            "\u001b[?25l\r\u001b[K     |████▊                           | 10 kB 20.4 MB/s eta 0:00:01\r\u001b[K     |█████████▌                      | 20 kB 11.2 MB/s eta 0:00:01\r\u001b[K     |██████████████▎                 | 30 kB 9.3 MB/s eta 0:00:01\r\u001b[K     |███████████████████             | 40 kB 8.6 MB/s eta 0:00:01\r\u001b[K     |███████████████████████▉        | 51 kB 5.1 MB/s eta 0:00:01\r\u001b[K     |████████████████████████████▋   | 61 kB 5.2 MB/s eta 0:00:01\r\u001b[K     |████████████████████████████████| 68 kB 2.8 MB/s \n",
            "\u001b[?25h  Building wheel for uuid (setup.py) ... \u001b[?25l\u001b[?25hdone\n"
          ]
        }
      ]
    },
    {
      "cell_type": "code",
      "source": [
        ""
      ],
      "metadata": {
        "id": "fcLIfO9xbali"
      },
      "execution_count": 3,
      "outputs": []
    },
    {
      "cell_type": "markdown",
      "source": [
        "# **Pytorch**"
      ],
      "metadata": {
        "id": "tUA1nG61bcZK"
      }
    },
    {
      "cell_type": "code",
      "source": [
        "import torch"
      ],
      "metadata": {
        "id": "kPsIHXzoWL8T"
      },
      "execution_count": 4,
      "outputs": []
    },
    {
      "cell_type": "code",
      "source": [
        "t1  = torch.tensor(4.)\n",
        "t1"
      ],
      "metadata": {
        "colab": {
          "base_uri": "https://localhost:8080/"
        },
        "id": "TSQbQT20bocE",
        "outputId": "35bb3d00-d750-4e39-bad1-66f82177ca00"
      },
      "execution_count": 8,
      "outputs": [
        {
          "output_type": "execute_result",
          "data": {
            "text/plain": [
              "tensor(4.)"
            ]
          },
          "metadata": {},
          "execution_count": 8
        }
      ]
    },
    {
      "cell_type": "code",
      "source": [
        "t1.dtype"
      ],
      "metadata": {
        "colab": {
          "base_uri": "https://localhost:8080/"
        },
        "id": "Xaskd6vYboes",
        "outputId": "6e0cfeb7-be13-41f6-c8f9-a78a81738a7d"
      },
      "execution_count": 10,
      "outputs": [
        {
          "output_type": "execute_result",
          "data": {
            "text/plain": [
              "torch.float32"
            ]
          },
          "metadata": {},
          "execution_count": 10
        }
      ]
    },
    {
      "cell_type": "code",
      "source": [
        "t2 = torch.tensor([1., 2, 3, 4])\n",
        "t2"
      ],
      "metadata": {
        "colab": {
          "base_uri": "https://localhost:8080/"
        },
        "id": "j0D1-tKUbohS",
        "outputId": "64c7605f-5397-45a9-8aa6-082bbfcb2fed"
      },
      "execution_count": 11,
      "outputs": [
        {
          "output_type": "execute_result",
          "data": {
            "text/plain": [
              "tensor([1., 2., 3., 4.])"
            ]
          },
          "metadata": {},
          "execution_count": 11
        }
      ]
    },
    {
      "cell_type": "code",
      "source": [
        "t2.dtype"
      ],
      "metadata": {
        "colab": {
          "base_uri": "https://localhost:8080/"
        },
        "id": "N_T875Jyboj5",
        "outputId": "8e1535b1-3bcc-49b0-f5ac-ddff355435ea"
      },
      "execution_count": 12,
      "outputs": [
        {
          "output_type": "execute_result",
          "data": {
            "text/plain": [
              "torch.float32"
            ]
          },
          "metadata": {},
          "execution_count": 12
        }
      ]
    },
    {
      "cell_type": "code",
      "source": [
        "# Matrix or a 2 Dimensional Tensor \n",
        "t3 = torch.tensor([[5., 6], [7,8], [9, 10]])\n",
        "t3"
      ],
      "metadata": {
        "colab": {
          "base_uri": "https://localhost:8080/"
        },
        "id": "COI_mTCCbomP",
        "outputId": "a90466f8-6f65-4940-be74-ef5acdf1e2a6"
      },
      "execution_count": 13,
      "outputs": [
        {
          "output_type": "execute_result",
          "data": {
            "text/plain": [
              "tensor([[ 5.,  6.],\n",
              "        [ 7.,  8.],\n",
              "        [ 9., 10.]])"
            ]
          },
          "metadata": {},
          "execution_count": 13
        }
      ]
    },
    {
      "cell_type": "code",
      "source": [
        "t3.dtype"
      ],
      "metadata": {
        "colab": {
          "base_uri": "https://localhost:8080/"
        },
        "id": "gPlfCpDmbool",
        "outputId": "1ef1a7f7-564d-47cb-a3ae-4add0037a682"
      },
      "execution_count": 14,
      "outputs": [
        {
          "output_type": "execute_result",
          "data": {
            "text/plain": [
              "torch.float32"
            ]
          },
          "metadata": {},
          "execution_count": 14
        }
      ]
    },
    {
      "cell_type": "code",
      "source": [
        "# 3 dimensional Arrat \n",
        "\n",
        "t4 = torch.tensor([[[1,2,3,4], [5,6,7,8]], \n",
        "                   [[9,10,11,12], [13,14,15,16]]])\n",
        "t4.shape"
      ],
      "metadata": {
        "colab": {
          "base_uri": "https://localhost:8080/"
        },
        "id": "SFYyw9Gkboq7",
        "outputId": "efebfcef-7d8e-46a2-b50f-78cf72729044"
      },
      "execution_count": 15,
      "outputs": [
        {
          "output_type": "execute_result",
          "data": {
            "text/plain": [
              "torch.Size([2, 2, 4])"
            ]
          },
          "metadata": {},
          "execution_count": 15
        }
      ]
    },
    {
      "cell_type": "code",
      "source": [
        "t3.shape"
      ],
      "metadata": {
        "colab": {
          "base_uri": "https://localhost:8080/"
        },
        "id": "xxeyqihabotk",
        "outputId": "3041d254-e982-4ce1-afad-3a3ca0edca61"
      },
      "execution_count": 16,
      "outputs": [
        {
          "output_type": "execute_result",
          "data": {
            "text/plain": [
              "torch.Size([3, 2])"
            ]
          },
          "metadata": {},
          "execution_count": 16
        }
      ]
    },
    {
      "cell_type": "code",
      "source": [
        "'''\n",
        "\n",
        "Arthemetic Operations \n",
        "y = w * x + b\n",
        "\n",
        "'''"
      ],
      "metadata": {
        "id": "emoiqnYHbowJ"
      },
      "execution_count": null,
      "outputs": []
    },
    {
      "cell_type": "code",
      "source": [
        "# To compute the derivative we can compute the Backward function \n",
        "# y.backward() - Automatic Derivatives "
      ],
      "metadata": {
        "id": "RC2x7dOxboyv"
      },
      "execution_count": null,
      "outputs": []
    },
    {
      "cell_type": "code",
      "source": [
        "# Display the Gradients \n",
        "print('dy/dx', x.grad)\n",
        "print('dy/dw', y.grad)\n",
        "print('dy/dw', w grad)\n",
        "'''\n",
        "dy/dw = W \n",
        "dy/db = 1\n",
        "grad - Gradient Short Form.../\n",
        "\n",
        "'''"
      ],
      "metadata": {
        "id": "Tk6f0bjubo1m"
      },
      "execution_count": null,
      "outputs": []
    },
    {
      "cell_type": "code",
      "source": [
        "import torch\n",
        "t6 = torch.full((3,2), 42)"
      ],
      "metadata": {
        "id": "Z_lIusvabo4e"
      },
      "execution_count": 2,
      "outputs": []
    },
    {
      "cell_type": "code",
      "source": [
        "# Torch Concatenate - concatenate the two tensors with Compatible shapes \n",
        "t7 = torch.cat((t3, t6))\n",
        "t7 "
      ],
      "metadata": {
        "id": "UZE3koAJgDQT"
      },
      "execution_count": 3,
      "outputs": []
    },
    {
      "cell_type": "code",
      "source": [
        "# convert the numpy array to a torch tensor "
      ],
      "metadata": {
        "id": "_qIe61R6gDSw"
      },
      "execution_count": null,
      "outputs": []
    },
    {
      "cell_type": "code",
      "source": [
        "# AutoGrads: The ability to autoatically compute the gradients for tensor operations is essential for training deep learning Models.\n",
        "# GPU Support: While working with Massive dataset and large models, Pytorch tensor operations can be performed efficiently using a GPU. Computations that might typically take hours can be completed within minutes using GPUS.\n"
      ],
      "metadata": {
        "id": "Q5_d1hdggDVI"
      },
      "execution_count": null,
      "outputs": []
    },
    {
      "cell_type": "code",
      "source": [
        "!pip install jovian --upgrade --quiet"
      ],
      "metadata": {
        "colab": {
          "base_uri": "https://localhost:8080/"
        },
        "id": "IsqHqo7kgDXf",
        "outputId": "2c123c19-b27a-4085-8797-1aace3a941bd"
      },
      "execution_count": 4,
      "outputs": [
        {
          "output_type": "stream",
          "name": "stdout",
          "text": [
            "\u001b[?25l\r\u001b[K     |████▊                           | 10 kB 19.6 MB/s eta 0:00:01\r\u001b[K     |█████████▌                      | 20 kB 20.8 MB/s eta 0:00:01\r\u001b[K     |██████████████▎                 | 30 kB 11.3 MB/s eta 0:00:01\r\u001b[K     |███████████████████             | 40 kB 9.7 MB/s eta 0:00:01\r\u001b[K     |███████████████████████▉        | 51 kB 5.5 MB/s eta 0:00:01\r\u001b[K     |████████████████████████████▋   | 61 kB 5.6 MB/s eta 0:00:01\r\u001b[K     |████████████████████████████████| 68 kB 2.9 MB/s \n",
            "\u001b[?25h  Building wheel for uuid (setup.py) ... \u001b[?25l\u001b[?25hdone\n"
          ]
        }
      ]
    },
    {
      "cell_type": "code",
      "source": [
        "import jovian "
      ],
      "metadata": {
        "id": "Wa0bzwLmgDaF"
      },
      "execution_count": 5,
      "outputs": []
    },
    {
      "cell_type": "code",
      "source": [
        "jovian.commit(project='01-pytorch-basics-live')"
      ],
      "metadata": {
        "colab": {
          "base_uri": "https://localhost:8080/"
        },
        "id": "EEajaD_irZL3",
        "outputId": "354d61a1-e3ed-4569-c8fa-46caf1391c7d"
      },
      "execution_count": 7,
      "outputs": [
        {
          "output_type": "stream",
          "name": "stdout",
          "text": [
            "[jovian] Detected Colab notebook...\u001b[0m\n"
          ]
        },
        {
          "output_type": "stream",
          "name": "stderr",
          "text": [
            "\u001b[31m[jovian] Error: jovian.commit doesn't work on Colab unless the notebook was created and executed from Jovian.\n",
            "Make sure to run the first code cell at the top after executing from Jovian.\n",
            "Alternatively, you can download this notebook and upload it manually to Jovian.\n",
            "Learn more: https://jovian.ai/docs/user-guide/run.html#run-on-colab\u001b[0m\n"
          ]
        }
      ]
    },
    {
      "cell_type": "code",
      "source": [
        ""
      ],
      "metadata": {
        "id": "bZBcAXoTrZOp"
      },
      "execution_count": 7,
      "outputs": []
    },
    {
      "cell_type": "markdown",
      "source": [
        "# **Gradient Descent and Pytorch**"
      ],
      "metadata": {
        "id": "z15ioX5_tTEx"
      }
    },
    {
      "cell_type": "markdown",
      "source": [
        ""
      ],
      "metadata": {
        "id": "huewhwiStWpC"
      }
    },
    {
      "cell_type": "code",
      "source": [
        "'''\n",
        "Introductiom To Linear Regression: we will design a linear Algo that predicts crop yields for apples and oranges based on several variables.\n",
        "Humidity, Temperature, Rainfall - Input Variables.\n",
        "'''"
      ],
      "metadata": {
        "id": "sEXFOO3jrZRi"
      },
      "execution_count": null,
      "outputs": []
    },
    {
      "cell_type": "code",
      "source": [
        "# yield_apple = w11 * temp + w12 * rainfall + w13 * humidity + b1 \n",
        "# yield_orange = w21 * temp + w22 * rainfall + w23*humidity + b2"
      ],
      "metadata": {
        "id": "YOW0-xPurZUI"
      },
      "execution_count": null,
      "outputs": []
    },
    {
      "cell_type": "code",
      "source": [
        "import numpy as np \n",
        "import torch"
      ],
      "metadata": {
        "id": "qcN5INLcgDcg"
      },
      "execution_count": 8,
      "outputs": []
    },
    {
      "cell_type": "code",
      "source": [
        "# We will adjust the weight by using the technique called as Gradient Descent - Which is the heart of Deep learning\n"
      ],
      "metadata": {
        "id": "4tbkDgL_gDel"
      },
      "execution_count": null,
      "outputs": []
    },
    {
      "cell_type": "code",
      "source": [
        "inputs = np.array(\n",
        "    [[73, 67, 43],\n",
        "    [91,88,64],\n",
        "    [102, 43, 37],\n",
        "    [69, 96, 70]]\n",
        ", dtype='float32')"
      ],
      "metadata": {
        "id": "3NDn2YddwZem"
      },
      "execution_count": 14,
      "outputs": []
    },
    {
      "cell_type": "code",
      "source": [
        "# Now Basically Converting the PyTorch Arrays into the tensors "
      ],
      "metadata": {
        "id": "HJRTC41PwZhK"
      },
      "execution_count": null,
      "outputs": []
    },
    {
      "cell_type": "code",
      "source": [
        "input = torch.from_numpy(inputs)\n",
        "targets = torch.from_numpy(targets)\n"
      ],
      "metadata": {
        "colab": {
          "base_uri": "https://localhost:8080/",
          "height": 207
        },
        "id": "G9jPNNq-wZkj",
        "outputId": "fd9a27b9-9ffe-48b3-ad24-765e0f84d929"
      },
      "execution_count": 16,
      "outputs": [
        {
          "output_type": "error",
          "ename": "NameError",
          "evalue": "ignored",
          "traceback": [
            "\u001b[0;31m---------------------------------------------------------------------------\u001b[0m",
            "\u001b[0;31mNameError\u001b[0m                                 Traceback (most recent call last)",
            "\u001b[0;32m<ipython-input-16-92fdd48e9638>\u001b[0m in \u001b[0;36m<module>\u001b[0;34m()\u001b[0m\n\u001b[1;32m      1\u001b[0m \u001b[0minput\u001b[0m \u001b[0;34m=\u001b[0m \u001b[0mtorch\u001b[0m\u001b[0;34m.\u001b[0m\u001b[0mfrom_numpy\u001b[0m\u001b[0;34m(\u001b[0m\u001b[0minputs\u001b[0m\u001b[0;34m)\u001b[0m\u001b[0;34m\u001b[0m\u001b[0;34m\u001b[0m\u001b[0m\n\u001b[0;32m----> 2\u001b[0;31m \u001b[0mtargets\u001b[0m \u001b[0;34m=\u001b[0m \u001b[0mtorch\u001b[0m\u001b[0;34m.\u001b[0m\u001b[0mfrom_numpy\u001b[0m\u001b[0;34m(\u001b[0m\u001b[0mtargets\u001b[0m\u001b[0;34m)\u001b[0m\u001b[0;34m\u001b[0m\u001b[0;34m\u001b[0m\u001b[0m\n\u001b[0m\u001b[1;32m      3\u001b[0m \u001b[0mprint\u001b[0m\u001b[0;34m(\u001b[0m\u001b[0mtargets\u001b[0m\u001b[0;34m)\u001b[0m\u001b[0;34m\u001b[0m\u001b[0;34m\u001b[0m\u001b[0m\n",
            "\u001b[0;31mNameError\u001b[0m: name 'targets' is not defined"
          ]
        }
      ]
    },
    {
      "cell_type": "code",
      "source": [
        "# Weights and Biasis\n",
        "w = torch.randn(2 , 3, requires_grad = True)\n",
        "b = torch.randn(2, requires_grad=True)\n",
        "print(w)\n",
        "print(b)"
      ],
      "metadata": {
        "colab": {
          "base_uri": "https://localhost:8080/"
        },
        "id": "WF0Jjg4-xLob",
        "outputId": "dce514e7-a697-490f-d764-d0c98d8be376"
      },
      "execution_count": 10,
      "outputs": [
        {
          "output_type": "stream",
          "name": "stdout",
          "text": [
            "tensor([[-0.3230, -0.6591, -0.0507],\n",
            "        [-0.3216, -0.4686,  0.3696]], requires_grad=True)\n",
            "tensor([-0.2492, -0.4896], requires_grad=True)\n"
          ]
        }
      ]
    },
    {
      "cell_type": "code",
      "source": [
        "def model(x):\n",
        "  return x @ w.t() + b\n",
        "# @ is matrix multiplication in PyTorch and .t method return the transpose of a tensor."
      ],
      "metadata": {
        "id": "f5DxEqdQxLrS"
      },
      "execution_count": null,
      "outputs": []
    },
    {
      "cell_type": "code",
      "source": [
        "# MSE Loss \n",
        "def mse(t1, t2):\n",
        "  diff = t1 - t2 \n",
        "  return torch.sum(diff * diff) / diff.numel()"
      ],
      "metadata": {
        "id": "m4A_sh_LxLto"
      },
      "execution_count": 19,
      "outputs": []
    },
    {
      "cell_type": "code",
      "source": [
        "# Computer Gradients \n",
        "print(b)\n",
        "print(b.grad)"
      ],
      "metadata": {
        "id": "V_2rjZqs2l-w"
      },
      "execution_count": null,
      "outputs": []
    },
    {
      "cell_type": "code",
      "source": [
        "# Increasing the wight element value slighly will incfease the loss \n",
        "# Decreasing the weight element value slighlt will decrease the loss"
      ],
      "metadata": {
        "id": "GDX0iO4h2mBZ"
      },
      "execution_count": null,
      "outputs": []
    },
    {
      "cell_type": "code",
      "source": [
        "with torch.no_grad():\n",
        "  w -= w.grad * 1e-5\n",
        "  b -= b.grad * 1e-5"
      ],
      "metadata": {
        "id": "tfRvEBbi2mES"
      },
      "execution_count": null,
      "outputs": []
    },
    {
      "cell_type": "code",
      "source": [
        "# Loss - >  MSE \n",
        "preds = model(input)\n",
        "loss = mse(preds, targets)\n",
        "print(loss)"
      ],
      "metadata": {
        "id": "KsAB6f-M2mG3"
      },
      "execution_count": null,
      "outputs": []
    },
    {
      "cell_type": "code",
      "source": [
        "'''\n",
        "Before we proceed, we reset the gradient to zero by invoking the .zer0_() method. We need to do this because the PyTorch accumulates gradients. \n",
        "Otherwise, the next time we invoke.backwards on the loss, the new gradient values are added to the existing gradients, which may lead to unexpected results.\n",
        "\n",
        "'''\n",
        "w.grad.zero_()\n",
        "b.grad.zero_()\n",
        "print(w.grad)\n",
        "print(b.grad)"
      ],
      "metadata": {
        "colab": {
          "base_uri": "https://localhost:8080/",
          "height": 244
        },
        "id": "L7BOs7422mJe",
        "outputId": "ccc960f2-cb6e-4d78-d636-50976e2a2423"
      },
      "execution_count": 20,
      "outputs": [
        {
          "output_type": "error",
          "ename": "AttributeError",
          "evalue": "ignored",
          "traceback": [
            "\u001b[0;31m---------------------------------------------------------------------------\u001b[0m",
            "\u001b[0;31mAttributeError\u001b[0m                            Traceback (most recent call last)",
            "\u001b[0;32m<ipython-input-20-b3966706e4c6>\u001b[0m in \u001b[0;36m<module>\u001b[0;34m()\u001b[0m\n\u001b[1;32m      4\u001b[0m \u001b[0;34m\u001b[0m\u001b[0m\n\u001b[1;32m      5\u001b[0m '''\n\u001b[0;32m----> 6\u001b[0;31m \u001b[0mw\u001b[0m\u001b[0;34m.\u001b[0m\u001b[0mgrad\u001b[0m\u001b[0;34m.\u001b[0m\u001b[0mzero_\u001b[0m\u001b[0;34m(\u001b[0m\u001b[0;34m)\u001b[0m\u001b[0;34m\u001b[0m\u001b[0;34m\u001b[0m\u001b[0m\n\u001b[0m\u001b[1;32m      7\u001b[0m \u001b[0mb\u001b[0m\u001b[0;34m.\u001b[0m\u001b[0mgrad\u001b[0m\u001b[0;34m.\u001b[0m\u001b[0mzero_\u001b[0m\u001b[0;34m(\u001b[0m\u001b[0;34m)\u001b[0m\u001b[0;34m\u001b[0m\u001b[0;34m\u001b[0m\u001b[0m\n\u001b[1;32m      8\u001b[0m \u001b[0mprint\u001b[0m\u001b[0;34m(\u001b[0m\u001b[0mw\u001b[0m\u001b[0;34m.\u001b[0m\u001b[0mgrad\u001b[0m\u001b[0;34m)\u001b[0m\u001b[0;34m\u001b[0m\u001b[0;34m\u001b[0m\u001b[0m\n",
            "\u001b[0;31mAttributeError\u001b[0m: 'NoneType' object has no attribute 'zero_'"
          ]
        }
      ]
    },
    {
      "cell_type": "code",
      "source": [
        "### Training the Model using Gradient Descent \n"
      ],
      "metadata": {
        "id": "4QxZJ80oxLwP"
      },
      "execution_count": null,
      "outputs": []
    },
    {
      "cell_type": "code",
      "source": [
        "\n",
        "preds = model(inputs)\n",
        "# Generate the Predictions\n",
        "print(preds)\n",
        "\n",
        "# Step 2: Calculate the Loss \n",
        "loss = mse(preds, targets)\n",
        "print(loss)\n",
        "\n",
        "# Compute Gradients \n",
        "loss.backward()\n",
        "print(w.grad)\n",
        "print(b.grad)\n"
      ],
      "metadata": {
        "id": "4vv4vI8WxLyk"
      },
      "execution_count": null,
      "outputs": []
    },
    {
      "cell_type": "code",
      "source": [
        "# Adjust the Weights and Reset the Gradients \n",
        "print(w)\n",
        "print(b)"
      ],
      "metadata": {
        "colab": {
          "base_uri": "https://localhost:8080/"
        },
        "id": "9pxnx-XVIQhg",
        "outputId": "a10eb94b-cf46-4858-d477-ca85dcca8133"
      },
      "execution_count": 21,
      "outputs": [
        {
          "output_type": "stream",
          "name": "stdout",
          "text": [
            "tensor([[-0.3230, -0.6591, -0.0507],\n",
            "        [-0.3216, -0.4686,  0.3696]], requires_grad=True)\n",
            "tensor([-0.2492, -0.4896], requires_grad=True)\n"
          ]
        }
      ]
    },
    {
      "cell_type": "code",
      "source": [
        "pred = model(inputs)\n",
        "loss = mse(preds, targets)\n",
        "print(loss)"
      ],
      "metadata": {
        "id": "fyMVN4ZCIQkJ"
      },
      "execution_count": null,
      "outputs": []
    },
    {
      "cell_type": "code",
      "source": [
        "# Train the model for Multiple Epochs \n",
        "for i in range(100):\n",
        "  preds = model(inputs)\n",
        "  loss = mse(preds, targets)\n",
        "  loss.backward()\n",
        "  with torch.no_grad():\n",
        "    w -= w.grad * 1e-5\n",
        "    b -= b.grad * 1e-5\n",
        "    w.grad.zero_()\n",
        "    b.grad.zero_()"
      ],
      "metadata": {
        "id": "YCOV07Z6IQpE"
      },
      "execution_count": null,
      "outputs": []
    },
    {
      "cell_type": "code",
      "source": [
        "# Calculate the Loss \n",
        "preds = model(inputs)\n",
        "loss = mse(pred, targets)\n",
        "print(loss)"
      ],
      "metadata": {
        "id": "29Pkm9XBIrYd"
      },
      "execution_count": null,
      "outputs": []
    },
    {
      "cell_type": "code",
      "source": [
        "targets "
      ],
      "metadata": {
        "id": "GNtdceu5Irbn"
      },
      "execution_count": null,
      "outputs": []
    },
    {
      "cell_type": "code",
      "source": [
        ""
      ],
      "metadata": {
        "id": "UO94NoVqIred"
      },
      "execution_count": 21,
      "outputs": []
    },
    {
      "cell_type": "markdown",
      "source": [
        "Linear Regression using PyTorch built-ins "
      ],
      "metadata": {
        "id": "pGZXj9KHKoE6"
      }
    },
    {
      "cell_type": "code",
      "source": [
        "'''\n",
        "We have implemented linear Regression and Gradient Descent model using some basic tesnor operations. Howeverm since this is a common pattern in deep learning. PyTorch provides several buil-in functions \n",
        "and classes to make it easy to create and train models with just a few lines of code.\n",
        "\n",
        "Numpy does not support GPUS but PyTorch Does\n",
        "'''"
      ],
      "metadata": {
        "id": "dzRjV4BNKndg"
      },
      "execution_count": null,
      "outputs": []
    },
    {
      "cell_type": "code",
      "source": [
        "input = np.array([[73., 67, 43], [91, 88, 64], [87,134, 58], [73., 67, 43], [91, 88, 64], [87,134, 58]])\n",
        "input.shape"
      ],
      "metadata": {
        "colab": {
          "base_uri": "https://localhost:8080/"
        },
        "id": "2qRmQ6k_IrhU",
        "outputId": "d515b00b-8ffa-4d1e-fca6-f47d84be4b13"
      },
      "execution_count": 25,
      "outputs": [
        {
          "output_type": "execute_result",
          "data": {
            "text/plain": [
              "(6, 3)"
            ]
          },
          "metadata": {},
          "execution_count": 25
        }
      ]
    },
    {
      "cell_type": "code",
      "source": [
        "from torch.utils.data import TensorDataset"
      ],
      "metadata": {
        "id": "no9SfJY0Irj7"
      },
      "execution_count": 26,
      "outputs": []
    },
    {
      "cell_type": "code",
      "source": [
        "train_ds = TensorDataset(input, targets)\n",
        "train_ds[0: 3]"
      ],
      "metadata": {
        "id": "PLGGb6HyIrmh"
      },
      "execution_count": null,
      "outputs": []
    },
    {
      "cell_type": "code",
      "source": [
        "for xb, yb in train_dl:\n",
        "  print(xb)\n",
        "  print(yb)\n",
        "  break"
      ],
      "metadata": {
        "id": "ELjnHRnCIro4"
      },
      "execution_count": null,
      "outputs": []
    },
    {
      "cell_type": "code",
      "source": [
        "inputs"
      ],
      "metadata": {
        "colab": {
          "base_uri": "https://localhost:8080/"
        },
        "id": "yT84CLI0MPGZ",
        "outputId": "5f80b118-846d-4d91-c19b-7ca2d332c513"
      },
      "execution_count": 27,
      "outputs": [
        {
          "output_type": "execute_result",
          "data": {
            "text/plain": [
              "array([[ 73.,  67.,  43.],\n",
              "       [ 91.,  88.,  64.],\n",
              "       [102.,  43.,  37.],\n",
              "       [ 69.,  96.,  70.]], dtype=float32)"
            ]
          },
          "metadata": {},
          "execution_count": 27
        }
      ]
    },
    {
      "cell_type": "code",
      "source": [
        "# Define Model \n",
        "model == nn.linear(3, 2)\n",
        "print(model.weight) # Creates the Weight Matrix\n",
        "print(model.bias)   # Creates the Bias Matrix"
      ],
      "metadata": {
        "id": "dEnnQrGvMPTy"
      },
      "execution_count": null,
      "outputs": []
    },
    {
      "cell_type": "code",
      "source": [
        "# Parameters \n",
        "list(model.parameters())"
      ],
      "metadata": {
        "id": "Va8_aNGwMPWR"
      },
      "execution_count": null,
      "outputs": []
    },
    {
      "cell_type": "code",
      "source": [
        "# Generate Predictions \n",
        "preds = model(inputs)\n",
        "preds"
      ],
      "metadata": {
        "id": "trLPy7pMMPY-"
      },
      "execution_count": 28,
      "outputs": []
    },
    {
      "cell_type": "code",
      "source": [
        "'''\n",
        "model.weight\n",
        "model.bias\n",
        "'''"
      ],
      "metadata": {
        "id": "uM-8Ft-lMPbP"
      },
      "execution_count": null,
      "outputs": []
    },
    {
      "cell_type": "code",
      "source": [
        "# Layered Model which has Parameters Inside it \n",
        "preds = models(input)\n"
      ],
      "metadata": {
        "id": "JNc3fWo7MPd5"
      },
      "execution_count": null,
      "outputs": []
    },
    {
      "cell_type": "code",
      "source": [
        "# Can import MSE loss at Torch \n",
        "import torch.nn.functional as F \n",
        "# nn.functional package contains many useful functions and severalOther Utilities "
      ],
      "metadata": {
        "id": "rQ2bqWQaMPgk"
      },
      "execution_count": null,
      "outputs": []
    },
    {
      "cell_type": "code",
      "source": [
        "# Define Loss Function \n",
        "loss_fn = F.mse_loss"
      ],
      "metadata": {
        "id": "GBUDD4p2MPjG"
      },
      "execution_count": null,
      "outputs": []
    },
    {
      "cell_type": "code",
      "source": [
        "# Once we have define the loss function we can now work upon the Gradient Descent to further Optimize the Algorithm \n",
        "opt = torch.optim.SGD(model.parameters(), lr = 1e-5) # Stochastic Gradient Descent \n",
        "# lr is the Learning Rate and Parameters are the loss and weight matrices\n",
        "# Learning Rate - so we take the small Steps not the Big Steps"
      ],
      "metadata": {
        "id": "0ZEj0yq9MPoT"
      },
      "execution_count": null,
      "outputs": []
    },
    {
      "cell_type": "code",
      "source": [
        ""
      ],
      "metadata": {
        "id": "T0IupxHYMPqo"
      },
      "execution_count": null,
      "outputs": []
    },
    {
      "cell_type": "markdown",
      "source": [
        "# **Utility Function **"
      ],
      "metadata": {
        "id": "Z59QeRidRg2D"
      }
    },
    {
      "cell_type": "code",
      "source": [
        "# Utility Function to train the Model \n",
        "def fit(num_epochs, model, loss_fn,opt, train_dl ):\n",
        "  # Repeat for the number of Epochs \n",
        "  for epoch in range(num_epochs):\n",
        "\n",
        "    # Train with the Batch of Datas\n",
        "    for xa,xb in train_dl:\n",
        "\n",
        "      # Generating the Prediction \n",
        "      pred = model(xb)\n",
        "\n",
        "      # Calculate the Loss\n",
        "      loss = loss_fn(pred, yb) \n",
        "\n",
        "      # Compute the Gradients \n",
        "      loss.backward()\n",
        "\n",
        "      # Upgrade the Parameters using Gradients \n",
        "      opt.step()\n",
        "\n",
        "      # Reset the Gradient to Zero \n",
        "      opt.zero_grad()\n",
        "      \n",
        "      if(epoch + 1) % 10 == 0:\n",
        "        print(\"Epochs [{}/ {}], loss: {:4f}\".format(epoch +1, num_epochs, loss.item()))\n",
        "\n",
        "\n",
        "      return"
      ],
      "metadata": {
        "id": "B1sG5veBMPtS"
      },
      "execution_count": null,
      "outputs": []
    },
    {
      "cell_type": "code",
      "source": [
        "fit(100, model, loss_fn, opt, train_dl)"
      ],
      "metadata": {
        "id": "d3xO18YuSBWy"
      },
      "execution_count": null,
      "outputs": []
    },
    {
      "cell_type": "code",
      "source": [
        "# Compare with Target \n"
      ],
      "metadata": {
        "id": "mSIaaf6mSBZc"
      },
      "execution_count": null,
      "outputs": []
    },
    {
      "cell_type": "code",
      "source": [
        "model(torch.tensor([75, 64, 23.]))"
      ],
      "metadata": {
        "id": "7wiK7N7qSBck"
      },
      "execution_count": null,
      "outputs": []
    },
    {
      "cell_type": "code",
      "source": [
        "### Machine Learning and Classical Programming"
      ],
      "metadata": {
        "id": "f-mPQ3F6SBf8"
      },
      "execution_count": 29,
      "outputs": []
    },
    {
      "cell_type": "code",
      "source": [
        "### Explanation"
      ],
      "metadata": {
        "id": "z2zj19i3SBij"
      },
      "execution_count": null,
      "outputs": []
    },
    {
      "cell_type": "code",
      "source": [
        "# Images - Logistic Regression # Feed Forward Networks # Convolutional Neural Network "
      ],
      "metadata": {
        "id": "m5SBJwCIiYG7"
      },
      "execution_count": null,
      "outputs": []
    },
    {
      "cell_type": "code",
      "source": [
        "# ResNet,Regularization and Data Augmentation "
      ],
      "metadata": {
        "id": "suiKpk_NiYJg"
      },
      "execution_count": null,
      "outputs": []
    },
    {
      "cell_type": "code",
      "source": [
        "# Generative Models "
      ],
      "metadata": {
        "id": "Z9KViuSmiYMo"
      },
      "execution_count": null,
      "outputs": []
    },
    {
      "cell_type": "code",
      "source": [
        ""
      ],
      "metadata": {
        "id": "vDoUAVw-iYPO"
      },
      "execution_count": null,
      "outputs": []
    },
    {
      "cell_type": "code",
      "source": [
        ""
      ],
      "metadata": {
        "id": "sQTwpoD0iYSX"
      },
      "execution_count": null,
      "outputs": []
    },
    {
      "cell_type": "code",
      "source": [
        ""
      ],
      "metadata": {
        "id": "QNT1sYT-iYVf"
      },
      "execution_count": null,
      "outputs": []
    },
    {
      "cell_type": "code",
      "source": [
        ""
      ],
      "metadata": {
        "id": "SfZrSNp-iYYY"
      },
      "execution_count": null,
      "outputs": []
    },
    {
      "cell_type": "code",
      "source": [
        ""
      ],
      "metadata": {
        "id": "m5nNSbyYiYcR"
      },
      "execution_count": null,
      "outputs": []
    },
    {
      "cell_type": "code",
      "source": [
        ""
      ],
      "metadata": {
        "id": "BlpHduZriYfq"
      },
      "execution_count": null,
      "outputs": []
    }
  ]
}